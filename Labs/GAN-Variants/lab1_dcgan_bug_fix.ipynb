{
 "cells": [
  {
   "cell_type": "markdown",
   "id": "3a61449b",
   "metadata": {},
   "source": [
    "# DCGAN — Bug-Fix Labs - 10 Bugs"
   ]
  },
  {
   "cell_type": "code",
   "execution_count": null,
   "id": "575e2caa",
   "metadata": {},
   "outputs": [],
   "source": [
    "import torch, torchvision\n",
    "import torch.nn as nn\n",
    "from torch.utils.data import DataLoader\n",
    "from torchvision import transforms\n",
    "\n",
    "device = torch.device('cuda' if torch.cuda.is_available() else 'cpu')"
   ]
  },
  {
   "cell_type": "code",
   "execution_count": null,
   "id": "84de2c3f",
   "metadata": {},
   "outputs": [],
   "source": [
    "# ---------------------------\n",
    "# Data\n",
    "# ---------------------------\n",
    "transform = transforms.Compose([\n",
    "    transforms.Resize(32),\n",
    "    transforms.ToTensor()                 # BUG\n",
    "])\n",
    "ds = torchvision.datasets.CIFAR10('./data', train=True, download=True, transform=transform)\n",
    "loader = DataLoader(ds, batch_size=128, shuffle=True, num_workers=2, pin_memory=True)"
   ]
  },
  {
   "cell_type": "code",
   "execution_count": null,
   "id": "06807642",
   "metadata": {},
   "outputs": [],
   "source": [
    "# ---------------------------\n",
    "# Hyperparams\n",
    "# ---------------------------\n",
    "z_dim = 100\n",
    "g_lr  = 2e-2   # BUG\n",
    "d_lr  = 2e-4"
   ]
  },
  {
   "cell_type": "code",
   "execution_count": null,
   "id": "30cf60c9",
   "metadata": {},
   "outputs": [],
   "source": [
    "# ---------------------------\n",
    "# Models\n",
    "# ---------------------------\n",
    "class D(nn.Module):\n",
    "    def __init__(self, ch=64):\n",
    "        super().__init__()\n",
    "        self.net = nn.Sequential(\n",
    "            nn.Conv2d(3, ch,   4, 2, 1),\n",
    "            nn.ReLU(inplace=True),         # BUG\n",
    "            nn.Conv2d(ch, ch*2, 4, 2, 1),\n",
    "            nn.BatchNorm2d(ch*2),\n",
    "            nn.LeakyReLU(0.2, inplace=True),\n",
    "            nn.Conv2d(ch*2, ch*4, 4, 2, 1),\n",
    "            nn.BatchNorm2d(ch*4),\n",
    "            nn.LeakyReLU(0.2, inplace=True),\n",
    "            nn.Conv2d(ch*4, 1,    4, 1, 0),\n",
    "            nn.Sigmoid()                   # BUG\n",
    "        )\n",
    "    def forward(self, x):\n",
    "        return self.net(x).view(x.size(0))\n",
    "\n",
    "class G(nn.Module):\n",
    "    def __init__(self, z=100, ch=64):\n",
    "        super().__init__()\n",
    "        self.net = nn.Sequential(\n",
    "            nn.ConvTranspose2d(z,   ch*4, 4, 1, 0, bias=False),\n",
    "            nn.BatchNorm2d(ch*4), nn.ReLU(True),\n",
    "            nn.ConvTranspose2d(ch*4, ch*2, 4, 2, 1, bias=False),\n",
    "            nn.BatchNorm2d(ch*2), nn.ReLU(True),\n",
    "            nn.ConvTranspose2d(ch*2, ch,   4, 2, 1, bias=False),\n",
    "            nn.BatchNorm2d(ch),   nn.ReLU(True),\n",
    "            nn.ConvTranspose2d(ch,  3,     4, 2, 1, bias=False)\n",
    "            # BUG\n",
    "        )\n",
    "    def forward(self, z):\n",
    "        z = z.view(z.size(0), 64, 1, 1)   # BUG\n",
    "        return self.net(z)\n",
    "\n",
    "Dnet = D().to(device)\n",
    "Gnet = G(z_dim).to(device)"
   ]
  },
  {
   "cell_type": "code",
   "execution_count": null,
   "id": "8f484697",
   "metadata": {},
   "outputs": [],
   "source": [
    "# ---------------------------\n",
    "# Loss & Optimizers\n",
    "# ---------------------------\n",
    "crit = nn.BCEWithLogitsLoss()             # using logits loss → D must NOT have Sigmoid\n",
    "opt_d = torch.optim.Adam(Dnet.parameters(), lr=d_lr, betas=(0.9, 0.999))\n",
    "opt_g = torch.optim.Adam(Gnet.parameters(), lr=g_lr,  betas=(0.9, 0.999))"
   ]
  },
  {
   "cell_type": "code",
   "execution_count": null,
   "id": "6a269514",
   "metadata": {},
   "outputs": [],
   "source": [
    "# ---------------------------\n",
    "# Training (intentionally wrong)\n",
    "# ---------------------------\n",
    "for real, _ in loader:\n",
    "    real = real.to(device)\n",
    "    b = real.size(0)\n",
    "\n",
    "    # ---- Discriminator step ----\n",
    "    z = torch.randn(b, z_dim, device=device)\n",
    "    fake = Gnet(z)                         # BUG\n",
    "\n",
    "    # BUG\n",
    "    loss_d = crit(Dnet(real), torch.zeros(b, device=device)) + \\\n",
    "             crit(Dnet(fake), torch.ones (b, device=device))\n",
    "\n",
    "    loss_d.backward()\n",
    "    opt_g.step()                           # BUG\n",
    "\n",
    "    # ---- Generator step ----\n",
    "    z = torch.randn(b, z_dim, device=device)\n",
    "    fake = Gnet(z)\n",
    "    # BUG\n",
    "    loss_g = crit(Dnet(fake), torch.zeros(b, device=device))\n",
    "    loss_g.backward()\n",
    "    # (missing) \n",
    "    # (missing) \n",
    "    break  # keep single mini-batch for this broken demo\n",
    "\n",
    "print(\"Your task: fix all 10 bugs until training runs and samples look reasonable.\")\n"
   ]
  }
 ],
 "metadata": {
  "kernelspec": {
   "display_name": "Python 3",
   "language": "python",
   "name": "python3"
  }
 },
 "nbformat": 4,
 "nbformat_minor": 5
}
