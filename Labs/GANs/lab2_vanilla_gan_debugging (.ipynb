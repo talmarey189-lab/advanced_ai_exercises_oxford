{
  "cells": [
    {
      "cell_type": "markdown",
      "metadata": {
        "id": "o8vlUZQ-NsYo"
      },
      "source": [
        "# Lab 2: Debug a Broken Vanilla GAN (find 12+ issues)"
      ],
      "id": "o8vlUZQ-NsYo"
    },
    {
      "cell_type": "code",
      "source": [
        "import torch, torchvision, torch.nn as nn\n",
        "from torch.utils.data import DataLoader\n",
        "from torchvision import transforms\n"
      ],
      "metadata": {
        "id": "QoCXXEwAQVZg"
      },
      "id": "QoCXXEwAQVZg",
      "execution_count": 17,
      "outputs": []
    },
    {
      "cell_type": "code",
      "source": [
        "device=torch.device('cuda' if torch.cuda.is_available() else 'cpu')\n",
        "transform=transforms.Compose([transforms.ToTensor(), transforms.Normalize(0.1307,0.3081)])  # BUG normalize\n",
        "loader=DataLoader(torchvision.datasets.MNIST('./data',True,download=True,transform=transform),batch_size=256,shuffle=True,num_workers=2,pin_memory=True)\n"
      ],
      "metadata": {
        "id": "evfnyLQ9QdCs"
      },
      "id": "evfnyLQ9QdCs",
      "execution_count": 18,
      "outputs": []
    },
    {
      "cell_type": "code",
      "metadata": {
        "id": "-T3bamf6NsYt"
      },
      "execution_count": 19,
      "outputs": [],
      "source": [
        "\n",
        "\n",
        "z_dim=100; g_lr=2e-2; d_lr=2e-5\n",
        "class D(nn.Module):\n",
        "    def __init__(self):\n",
        "        super().__init__(); self.net = nn.Sequential(nn.Conv2d(1, 32, 4, 2, 1),nn.LeakyReLU(0.2, True),nn.Conv2d(32, 64, 4, 2, 1),nn.BatchNorm2d(64),nn.LeakyReLU(0.2, True),nn.Conv2d(64, 128, 4, 2, 1),nn.BatchNorm2d(128),nn.LeakyReLU(0.2, True),nn.Conv2d(128, 1, 3, 1, 0),nn.Flatten())\n",
        "    def forward(self,x):return self.net(x)\n",
        "class G(nn.Module):\n",
        "    def __init__(self):\n",
        "        super().__init__(); self.net=nn.Sequential(nn.ConvTranspose2d(100,128,4,1,0),nn.BatchNorm2d(128),nn.ReLU(True),nn.ConvTranspose2d(128,64,4,2,1),nn.BatchNorm2d(64),nn.ReLU(True),nn.ConvTranspose2d(64,32,4,2,1),nn.BatchNorm2d(32),nn.ReLU(True), nn.ConvTranspose2d(32,1,3,2,2), nn.Tanh())  # BUG missing Tanh\n",
        "    def forward(self,z): z = z.view(-1, z_dim, 1, 1); return self.net(z)  # BUG reshape\n",
        "Dnet=D().to(device); Gnet=G().to(device)\n",
        "crit=nn.BCEWithLogitsLoss(); opt_d=torch.optim.Adam(Dnet.parameters(),lr=d_lr,betas=(0.9,0.999)); opt_g=torch.optim.Adam(Gnet.parameters(),lr=g_lr,betas=(0.9,0.999))"
      ],
      "id": "-T3bamf6NsYt"
    },
    {
      "cell_type": "code",
      "source": [],
      "metadata": {
        "id": "BnI0Jrm9RCN7"
      },
      "id": "BnI0Jrm9RCN7",
      "execution_count": 19,
      "outputs": []
    },
    {
      "cell_type": "code",
      "metadata": {
        "colab": {
          "base_uri": "https://localhost:8080/"
        },
        "id": "m7ZEPApMNsYx",
        "outputId": "44c1abe7-ec31-4bb3-ccdd-f9cc67031715"
      },
      "execution_count": 20,
      "outputs": [
        {
          "output_type": "stream",
          "name": "stderr",
          "text": [
            "100%|██████████| 235/235 [00:13<00:00, 16.85it/s]"
          ]
        },
        {
          "output_type": "stream",
          "name": "stdout",
          "text": [
            "Now fix all the issues.\n"
          ]
        },
        {
          "output_type": "stream",
          "name": "stderr",
          "text": [
            "\n"
          ]
        }
      ],
      "source": [
        "from tqdm import tqdm\n",
        "for real,_ in tqdm(loader):\n",
        "    real=real.to(device); b=real.size(0)\n",
        "    z=torch.randn(b,z_dim,device=device);\n",
        "    fake=Gnet(z.view(b,z_dim,1,1))\n",
        "    loss_d=crit(Dnet(real),torch.zeros(b,1,device=device))+crit(Dnet(fake),torch.ones(b,1,device=device))  # BUG labels\n",
        "    loss_d.backward(); opt_d.zero_grad(); opt_d.step()  # BUG\n",
        "    z=torch.randn(b,z_dim,device=device); fake=Gnet(z.view(b,z_dim,1,1))\n",
        "    loss_g=crit(Dnet(fake),torch.zeros(b,1,device=device))  # BUG non-sat\n",
        "    loss_g.backward()  # BUG missing step\n",
        "    opt_g.step()\n",
        "    opt_g.zero_grad()\n",
        "print('Now fix all the issues.')"
      ],
      "id": "m7ZEPApMNsYx"
    }
  ],
  "metadata": {
    "kernelspec": {
      "name": "python3",
      "display_name": "Python 3"
    },
    "colab": {
      "provenance": [],
      "gpuType": "T4"
    },
    "accelerator": "GPU"
  },
  "nbformat": 4,
  "nbformat_minor": 5
}