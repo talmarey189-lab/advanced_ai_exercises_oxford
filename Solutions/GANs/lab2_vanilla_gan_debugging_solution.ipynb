{
 "cells": [
  {
   "cell_type": "markdown",
   "metadata": {},
   "source": [
    "# Lab 2 Solution: Fixed Vanilla GAN"
   ]
  },
  {
   "cell_type": "code",
   "execution_count": null,
   "id": "daaf1d90",
   "metadata": {},
   "outputs": [],
   "source": [
    "import torch, torchvision, torch.nn as nn\n",
    "from torch.utils.data import DataLoader\n",
    "from torchvision import transforms"
   ]
  },
  {
   "cell_type": "code",
   "execution_count": null,
   "id": "65ceeebb",
   "metadata": {},
   "outputs": [],
   "source": [
    "device=torch.device('cuda' if torch.cuda.is_available() else 'cpu')\n",
    "\n",
    "transform=transforms.Compose([\n",
    "    transforms.ToTensor(), \n",
    "    transforms.Normalize((0.5,), (0.5,))\n",
    "])\n",
    "loader=DataLoader(\n",
    "    torchvision.datasets.MNIST('./data', True, download=True, transform=transform), batch_size=128, shuffle=True, num_workers=2, pin_memory=True)\n",
    "z_dim=100; g_lr=d_lr=2e-4"
   ]
  },
  {
   "cell_type": "code",
   "execution_count": null,
   "id": "afb8effa",
   "metadata": {},
   "outputs": [],
   "source": [
    "class D(nn.Module):\n",
    "    def __init__(self):\n",
    "        super().__init__()\n",
    "        self.net=nn.Sequential(\n",
    "            nn.Conv2d(1,64,4,2,1,bias=False),\n",
    "            nn.LeakyReLU(0.2,True),\n",
    "            \n",
    "            nn.Conv2d(64,128,4,2,1,bias=False),\n",
    "            nn.BatchNorm2d(128),\n",
    "            nn.LeakyReLU(0.2,True),\n",
    "            \n",
    "            nn.Conv2d(128,1,7,1,0,bias=False)\n",
    "        )\n",
    "        \n",
    "    def forward(self,x):\n",
    "        return self.net(x).view(x.size(0),1)"
   ]
  },
  {
   "cell_type": "code",
   "execution_count": null,
   "id": "b3121e11",
   "metadata": {},
   "outputs": [],
   "source": [
    "class G(nn.Module):\n",
    "    def __init__(self):\n",
    "        super().__init__()\n",
    "        self.net=nn.Sequential(\n",
    "            nn.ConvTranspose2d(100,128,4,1,0,bias=False),\n",
    "            nn.BatchNorm2d(128),\n",
    "            nn.ReLU(True),\n",
    "            \n",
    "            nn.ConvTranspose2d(128,64,4,2,1,bias=False),\n",
    "            nn.BatchNorm2d(64),\n",
    "            nn.ReLU(True),\n",
    "            \n",
    "            nn.ConvTranspose2d(64,1,5,2,2,bias=False),\n",
    "            nn.Tanh()\n",
    "        )\n",
    "        \n",
    "    def forward(self,z):\n",
    "        if z.dim()==2:\n",
    "            z=z.view(z.size(0), z.size(1), 1, 1)\n",
    "        x=self.net(z)\n",
    "        if x.size(-1)!=28:\n",
    "            x=torch.nn.functional.interpolate(x, size=(28,28), mode='bilinear', align_corners=False)\n",
    "        return x"
   ]
  },
  {
   "cell_type": "code",
   "execution_count": null,
   "metadata": {},
   "outputs": [],
   "source": [
    "Dnet=D().to(device)\n",
    "Gnet=G().to(device)\n",
    "crit=nn.BCEWithLogitsLoss()\n",
    "\n",
    "opt_d=torch.optim.Adam(Dnet.parameters(),lr=d_lr,betas=(0.5,0.999)) \n",
    "opt_g=torch.optim.Adam(Gnet.parameters(),lr=g_lr,betas=(0.5,0.999))"
   ]
  },
  {
   "cell_type": "code",
   "execution_count": null,
   "metadata": {},
   "outputs": [],
   "source": [
    "from tqdm import tqdm\n",
    "\n",
    "for real,_ in tqdm(loader):\n",
    "    real=real.to(device)\n",
    "    b=real.size(0)\n",
    "    \n",
    "    opt_d.zero_grad(set_to_none=True)\n",
    "    z=torch.randn(b,z_dim,device=device)\n",
    "    fake=Gnet(z.view(b,z_dim,1,1)).detach()\n",
    "    \n",
    "    loss_d=crit(Dnet(real),torch.ones(b,1,device=device))+crit(Dnet(fake),torch.zeros(b,1,device=device))\n",
    "    loss_d.backward()\n",
    "    opt_d.step()\n",
    "    \n",
    "    opt_g.zero_grad(set_to_none=True)\n",
    "    z=torch.randn(b,z_dim,device=device)\n",
    "    fake=Gnet(z.view(b,z_dim,1,1))\n",
    "    \n",
    "    loss_g=crit(Dnet(fake),torch.ones(b,1,device=device))\n",
    "    loss_g.backward()\n",
    "    opt_g.step()\n",
    "    \n",
    "print('Fixed training loop runs.')"
   ]
  }
 ],
 "metadata": {
  "kernelspec": {
   "display_name": "Python 3",
   "language": "python",
   "name": "python3"
  }
 },
 "nbformat": 4,
 "nbformat_minor": 5
}
