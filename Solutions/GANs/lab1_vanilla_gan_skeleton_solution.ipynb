{
 "cells": [
  {
   "cell_type": "markdown",
   "metadata": {},
   "source": [
    "# Lab 1 Solution: Vanilla GAN"
   ]
  },
  {
   "cell_type": "code",
   "execution_count": null,
   "id": "57b0c120",
   "metadata": {},
   "outputs": [],
   "source": [
    "import torch, torchvision, torch.nn as nn\n",
    "from torch.utils.data import DataLoader\n",
    "from torchvision import transforms"
   ]
  },
  {
   "cell_type": "code",
   "execution_count": null,
   "metadata": {},
   "outputs": [],
   "source": [
    "device=torch.device('cuda' if torch.cuda.is_available() else 'cpu')\n",
    "z_dim=64\n",
    "g_lr=d_lr=2e-4\n",
    "\n",
    "transform=transforms.Compose([transforms.ToTensor(), transforms.Normalize((0.5,), (0.5,))])\n",
    "train_ds=torchvision.datasets.MNIST('./data', True, download=True, transform=transform)\n",
    "train_loader=DataLoader(train_ds, batch_size=128, shuffle=True, num_workers=2, pin_memory=True)"
   ]
  },
  {
   "cell_type": "code",
   "execution_count": null,
   "id": "4dd33628",
   "metadata": {},
   "outputs": [],
   "source": [
    "class Generator(nn.Module):\n",
    "    def __init__(self,z_dim=64):\n",
    "        super().__init__()\n",
    "        self.net=nn.Sequential(\n",
    "            nn.ConvTranspose2d(z_dim,256,3,2,0,bias=False),\n",
    "            nn.BatchNorm2d(256),\n",
    "            nn.ReLU(True),\n",
    "            \n",
    "            nn.ConvTranspose2d(256,128,4,2,1,bias=False),\n",
    "            nn.BatchNorm2d(128),\n",
    "            nn.ReLU(True),\n",
    "            \n",
    "            nn.ConvTranspose2d(128,64,4,2,1,bias=False),\n",
    "            nn.BatchNorm2d(64),\n",
    "            nn.ReLU(True),\n",
    "            \n",
    "            nn.ConvTranspose2d(64,1,5,2,2,bias=False),\n",
    "            nn.Tanh()\n",
    "        )\n",
    "        \n",
    "    def forward(self,z):\n",
    "        if z.dim()==2:\n",
    "            z=z.view(z.size(0),z.size(1),1,1)\n",
    "        x=self.net(z)\n",
    "        if x.size(-1)!=28:\n",
    "            x=torch.nn.functional.interpolate(x, size=(28,28), mode='bilinear', align_corners=False)\n",
    "        return x"
   ]
  },
  {
   "cell_type": "code",
   "execution_count": null,
   "id": "015a8425",
   "metadata": {},
   "outputs": [],
   "source": [
    "class Discriminator(nn.Module):\n",
    "    def __init__(self):\n",
    "        super().__init__()\n",
    "        self.net=nn.Sequential(\n",
    "            nn.Conv2d(1,64,4,2,1,bias=False),\n",
    "            nn.LeakyReLU(0.2,True),\n",
    "            \n",
    "            nn.Conv2d(64,128,4,2,1,bias=False),\n",
    "            nn.BatchNorm2d(128),\n",
    "            nn.LeakyReLU(0.2,True),\n",
    "            \n",
    "            nn.Conv2d(128,1,7,1,0,bias=False)\n",
    "        )\n",
    "    \n",
    "    def forward(self,x):return self.net(x).view(x.size(0),1)"
   ]
  },
  {
   "cell_type": "code",
   "execution_count": null,
   "metadata": {},
   "outputs": [],
   "source": [
    "\n",
    "G=Generator(z_dim).to(device)\n",
    "D=Discriminator().to(device)\n",
    "\n",
    "crit=nn.BCEWithLogitsLoss()\n",
    "\n",
    "opt_g=torch.optim.Adam(G.parameters(),lr=g_lr,betas=(0.5,0.999))\n",
    "opt_d=torch.optim.Adam(D.parameters(),lr=d_lr,betas=(0.5,0.999))"
   ]
  },
  {
   "cell_type": "code",
   "execution_count": null,
   "metadata": {},
   "outputs": [],
   "source": [
    "def train_discriminator_step(real):\n",
    "    opt_d.zero_grad(set_to_none=True)\n",
    "    b=real.size(0)\n",
    "    \n",
    "    ones=torch.ones(b,1,device=device)\n",
    "    zeros=torch.zeros(b,1,device=device)\n",
    "    \n",
    "    loss=(crit(D(real),ones)+crit(D(G(torch.randn(b,z_dim,device=device).view(b,z_dim,1,1)).detach()),zeros))\n",
    "    \n",
    "    loss.backward()\n",
    "    opt_d.step()\n",
    "    return float(loss.item())\n",
    "\n",
    "def train_generator_step(b):\n",
    "    opt_g.zero_grad(set_to_none=True)\n",
    "    fake=G(torch.randn(b,z_dim,device=device).view(b,z_dim,1,1))\n",
    "    loss=crit(D(fake),torch.ones(b,1,device=device))\n",
    "    loss.backward()\n",
    "    opt_g.step()\n",
    "    return float(loss.item())"
   ]
  }
 ],
 "metadata": {
  "kernelspec": {
   "display_name": "Python 3",
   "language": "python",
   "name": "python3"
  }
 },
 "nbformat": 4,
 "nbformat_minor": 5
}
