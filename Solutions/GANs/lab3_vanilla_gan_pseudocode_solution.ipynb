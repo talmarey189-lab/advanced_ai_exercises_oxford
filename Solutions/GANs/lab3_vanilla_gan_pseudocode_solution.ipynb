{
  "cells": [
    {
      "cell_type": "markdown",
      "id": "zPKK8ntuRmUv",
      "metadata": {
        "id": "zPKK8ntuRmUv"
      },
      "source": [
        "# Lab 3 Solution: Implement GAN from Pseudocode (Goodfellow)"
      ]
    },
    {
      "cell_type": "markdown",
      "id": "43447c3f",
      "metadata": {
        "id": "43447c3f"
      },
      "source": [
        "## Import Libraries"
      ]
    },
    {
      "cell_type": "code",
      "execution_count": 1,
      "id": "77bbfdb3",
      "metadata": {
        "id": "77bbfdb3"
      },
      "outputs": [],
      "source": [
        "import torch\n",
        "import torch.nn as nn\n",
        "import torch.optim as optim\n",
        "from torchvision import datasets, transforms\n",
        "from torch.utils.data import DataLoader\n",
        "import matplotlib.pyplot as plt\n",
        "import os"
      ]
    },
    {
      "cell_type": "markdown",
      "id": "abd23461",
      "metadata": {
        "id": "abd23461"
      },
      "source": [
        "# ----------------------------\n",
        "# 1. Hyperparameters\n",
        "# ----------------------------"
      ]
    },
    {
      "cell_type": "code",
      "execution_count": 2,
      "id": "1dea9fa4",
      "metadata": {
        "colab": {
          "base_uri": "https://localhost:8080/"
        },
        "id": "1dea9fa4",
        "outputId": "fd909e99-ee16-4770-f5f8-0b24256097f9"
      },
      "outputs": [
        {
          "data": {
            "text/plain": [
              "device(type='cuda')"
            ]
          },
          "execution_count": 2,
          "metadata": {},
          "output_type": "execute_result"
        }
      ],
      "source": [
        "latent_dim = 100\n",
        "batch_size = 64\n",
        "lr = 0.0002\n",
        "beta1 = 0.5\n",
        "num_epochs = 50\n",
        "device = torch.device(\"cuda\" if torch.cuda.is_available() else \"cpu\")\n",
        "device"
      ]
    },
    {
      "cell_type": "markdown",
      "id": "d989acc2",
      "metadata": {
        "id": "d989acc2"
      },
      "source": [
        "# ----------------------------\n",
        "# 2. Load Data (MNIST)\n",
        "# ----------------------------"
      ]
    },
    {
      "cell_type": "code",
      "execution_count": 3,
      "id": "df601287",
      "metadata": {
        "colab": {
          "base_uri": "https://localhost:8080/"
        },
        "id": "df601287",
        "outputId": "2b1273ab-ddb9-465a-a6d8-96da3af6ad56"
      },
      "outputs": [
        {
          "name": "stderr",
          "output_type": "stream",
          "text": [
            "100%|██████████| 9.91M/9.91M [00:00<00:00, 18.8MB/s]\n",
            "100%|██████████| 28.9k/28.9k [00:00<00:00, 506kB/s]\n",
            "100%|██████████| 1.65M/1.65M [00:00<00:00, 4.70MB/s]\n",
            "100%|██████████| 4.54k/4.54k [00:00<00:00, 14.4MB/s]\n"
          ]
        }
      ],
      "source": [
        "transform = transforms.Compose([\n",
        "    transforms.ToTensor(),\n",
        "    transforms.Normalize([0.5], [0.5])   # scale to [-1, 1]\n",
        "])\n",
        "\n",
        "dataset = datasets.MNIST(root=\"./data\", train=True, transform=transform, download=True)\n",
        "dataloader = DataLoader(dataset, batch_size=batch_size, shuffle=True)"
      ]
    },
    {
      "cell_type": "markdown",
      "id": "b7c238ae",
      "metadata": {
        "id": "b7c238ae"
      },
      "source": [
        "# ----------------------------\n",
        "# 3. Generator Model\n",
        "# ----------------------------"
      ]
    },
    {
      "cell_type": "code",
      "execution_count": 4,
      "id": "5716ec9f",
      "metadata": {
        "id": "5716ec9f"
      },
      "outputs": [],
      "source": [
        "class Generator(nn.Module):\n",
        "    def __init__(self, latent_dim):\n",
        "        super(Generator, self).__init__()\n",
        "        self.model = nn.Sequential(\n",
        "            nn.Linear(latent_dim, 256),\n",
        "            nn.LeakyReLU(0.2, inplace=True),\n",
        "\n",
        "            nn.Linear(256, 512),\n",
        "            nn.LeakyReLU(0.2, inplace=True),\n",
        "\n",
        "            nn.Linear(512, 1024),\n",
        "            nn.LeakyReLU(0.2, inplace=True),\n",
        "\n",
        "            nn.Linear(1024, 28 * 28),\n",
        "            nn.Tanh()  # output in [-1, 1]\n",
        "        )\n",
        "\n",
        "    def forward(self, z):\n",
        "        img = self.model(z)\n",
        "        img = img.view(z.size(0), 1, 28, 28)\n",
        "        return img"
      ]
    },
    {
      "cell_type": "markdown",
      "id": "f3a0222b",
      "metadata": {
        "id": "f3a0222b"
      },
      "source": [
        "# ----------------------------\n",
        "# 4. Discriminator Model\n",
        "# ----------------------------"
      ]
    },
    {
      "cell_type": "code",
      "execution_count": 5,
      "id": "d724a4ad",
      "metadata": {
        "id": "d724a4ad"
      },
      "outputs": [],
      "source": [
        "class Discriminator(nn.Module):\n",
        "    def __init__(self):\n",
        "        super(Discriminator, self).__init__()\n",
        "        self.model = nn.Sequential(\n",
        "            nn.Linear(28 * 28, 512),\n",
        "            nn.LeakyReLU(0.2, inplace=True),\n",
        "\n",
        "            nn.Linear(512, 256),\n",
        "            nn.LeakyReLU(0.2, inplace=True),\n",
        "\n",
        "            nn.Linear(256, 1),\n",
        "            nn.Sigmoid()  # probability [0,1]\n",
        "        )\n",
        "\n",
        "    def forward(self, img):\n",
        "        img_flat = img.view(img.size(0), -1)\n",
        "        validity = self.model(img_flat)\n",
        "        return validity"
      ]
    },
    {
      "cell_type": "markdown",
      "id": "b112e11d",
      "metadata": {
        "id": "b112e11d"
      },
      "source": [
        "# ----------------------------\n",
        "# 5. Initialize models & optimizers\n",
        "# ----------------------------"
      ]
    },
    {
      "cell_type": "code",
      "execution_count": 6,
      "id": "320c4d64",
      "metadata": {
        "id": "320c4d64"
      },
      "outputs": [],
      "source": [
        "G = Generator(latent_dim).to(device)\n",
        "D = Discriminator().to(device)\n",
        "\n",
        "criterion = nn.BCELoss()\n",
        "\n",
        "optimizer_G = optim.Adam(G.parameters(), lr=lr, betas=(beta1, 0.999))\n",
        "optimizer_D = optim.Adam(D.parameters(), lr=lr, betas=(beta1, 0.999))"
      ]
    },
    {
      "cell_type": "markdown",
      "id": "11354f82",
      "metadata": {
        "id": "11354f82"
      },
      "source": [
        "# ----------------------------\n",
        "# 6. Training Discriminator and Generator Models simultaneously\n",
        "# ----------------------------"
      ]
    },
    {
      "cell_type": "code",
      "execution_count": 7,
      "id": "c6598590",
      "metadata": {
        "id": "c6598590"
      },
      "outputs": [],
      "source": [
        "os.makedirs(\"images\", exist_ok=True)"
      ]
    },
    {
      "cell_type": "code",
      "execution_count": 8,
      "id": "90869e7e",
      "metadata": {
        "colab": {
          "base_uri": "https://localhost:8080/"
        },
        "id": "90869e7e",
        "outputId": "72a7bcc7-a3a1-4a3f-95d6-bbca420c8bbd"
      },
      "outputs": [
        {
          "name": "stdout",
          "output_type": "stream",
          "text": [
            "[Epoch 0/50] [Batch 0/938] [D loss: 1.4056] [G loss: 0.7237]\n",
            "[Epoch 0/50] [Batch 200/938] [D loss: 1.2382] [G loss: 0.9838]\n",
            "[Epoch 0/50] [Batch 400/938] [D loss: 0.7576] [G loss: 1.1318]\n",
            "[Epoch 0/50] [Batch 600/938] [D loss: 0.7798] [G loss: 1.3114]\n",
            "[Epoch 0/50] [Batch 800/938] [D loss: 0.7550] [G loss: 1.6910]\n",
            "[Epoch 1/50] [Batch 0/938] [D loss: 0.8686] [G loss: 1.2950]\n",
            "[Epoch 1/50] [Batch 200/938] [D loss: 0.7680] [G loss: 1.5540]\n",
            "[Epoch 1/50] [Batch 400/938] [D loss: 0.8224] [G loss: 1.8459]\n",
            "[Epoch 1/50] [Batch 600/938] [D loss: 1.4332] [G loss: 2.7614]\n",
            "[Epoch 1/50] [Batch 800/938] [D loss: 0.8744] [G loss: 1.5206]\n",
            "[Epoch 2/50] [Batch 0/938] [D loss: 0.9414] [G loss: 0.9547]\n",
            "[Epoch 2/50] [Batch 200/938] [D loss: 0.8706] [G loss: 1.3230]\n",
            "[Epoch 2/50] [Batch 400/938] [D loss: 1.0613] [G loss: 2.7087]\n",
            "[Epoch 2/50] [Batch 600/938] [D loss: 0.6719] [G loss: 1.9404]\n",
            "[Epoch 2/50] [Batch 800/938] [D loss: 0.8137] [G loss: 2.2238]\n",
            "[Epoch 3/50] [Batch 0/938] [D loss: 1.0145] [G loss: 0.9425]\n",
            "[Epoch 3/50] [Batch 200/938] [D loss: 1.0011] [G loss: 1.9784]\n",
            "[Epoch 3/50] [Batch 400/938] [D loss: 0.8806] [G loss: 1.2711]\n",
            "[Epoch 3/50] [Batch 600/938] [D loss: 0.8936] [G loss: 0.9508]\n",
            "[Epoch 3/50] [Batch 800/938] [D loss: 0.8864] [G loss: 1.1608]\n",
            "[Epoch 4/50] [Batch 0/938] [D loss: 0.5546] [G loss: 2.8226]\n",
            "[Epoch 4/50] [Batch 200/938] [D loss: 0.7424] [G loss: 2.0094]\n",
            "[Epoch 4/50] [Batch 400/938] [D loss: 0.7372] [G loss: 2.6335]\n",
            "[Epoch 4/50] [Batch 600/938] [D loss: 0.6832] [G loss: 1.2099]\n",
            "[Epoch 4/50] [Batch 800/938] [D loss: 0.7103] [G loss: 1.9416]\n",
            "[Epoch 5/50] [Batch 0/938] [D loss: 0.8194] [G loss: 2.5205]\n",
            "[Epoch 5/50] [Batch 200/938] [D loss: 1.1315] [G loss: 1.1150]\n",
            "[Epoch 5/50] [Batch 400/938] [D loss: 0.8513] [G loss: 1.2417]\n",
            "[Epoch 5/50] [Batch 600/938] [D loss: 0.8071] [G loss: 1.2577]\n",
            "[Epoch 5/50] [Batch 800/938] [D loss: 0.9666] [G loss: 1.0205]\n",
            "[Epoch 6/50] [Batch 0/938] [D loss: 1.2203] [G loss: 2.7423]\n",
            "[Epoch 6/50] [Batch 200/938] [D loss: 1.2863] [G loss: 0.6890]\n",
            "[Epoch 6/50] [Batch 400/938] [D loss: 1.0084] [G loss: 1.6563]\n",
            "[Epoch 6/50] [Batch 600/938] [D loss: 1.2276] [G loss: 1.9364]\n",
            "[Epoch 6/50] [Batch 800/938] [D loss: 1.0944] [G loss: 1.4766]\n",
            "[Epoch 7/50] [Batch 0/938] [D loss: 0.9284] [G loss: 1.0722]\n",
            "[Epoch 7/50] [Batch 200/938] [D loss: 1.2403] [G loss: 1.9471]\n",
            "[Epoch 7/50] [Batch 400/938] [D loss: 0.9856] [G loss: 1.5964]\n",
            "[Epoch 7/50] [Batch 600/938] [D loss: 1.0615] [G loss: 0.8048]\n",
            "[Epoch 7/50] [Batch 800/938] [D loss: 1.0826] [G loss: 1.5500]\n",
            "[Epoch 8/50] [Batch 0/938] [D loss: 1.1049] [G loss: 0.7754]\n",
            "[Epoch 8/50] [Batch 200/938] [D loss: 1.1304] [G loss: 1.5818]\n",
            "[Epoch 8/50] [Batch 400/938] [D loss: 1.1853] [G loss: 0.8863]\n",
            "[Epoch 8/50] [Batch 600/938] [D loss: 1.2307] [G loss: 1.6515]\n",
            "[Epoch 8/50] [Batch 800/938] [D loss: 1.0439] [G loss: 0.9428]\n",
            "[Epoch 9/50] [Batch 0/938] [D loss: 1.1468] [G loss: 1.6537]\n",
            "[Epoch 9/50] [Batch 200/938] [D loss: 1.1140] [G loss: 1.8064]\n",
            "[Epoch 9/50] [Batch 400/938] [D loss: 1.2728] [G loss: 0.5987]\n",
            "[Epoch 9/50] [Batch 600/938] [D loss: 1.3824] [G loss: 0.5526]\n",
            "[Epoch 9/50] [Batch 800/938] [D loss: 1.1372] [G loss: 1.0794]\n",
            "[Epoch 10/50] [Batch 0/938] [D loss: 1.2192] [G loss: 0.8283]\n",
            "[Epoch 10/50] [Batch 200/938] [D loss: 1.0083] [G loss: 1.4139]\n",
            "[Epoch 10/50] [Batch 400/938] [D loss: 1.2438] [G loss: 0.7198]\n",
            "[Epoch 10/50] [Batch 600/938] [D loss: 1.1967] [G loss: 1.0922]\n",
            "[Epoch 10/50] [Batch 800/938] [D loss: 1.2635] [G loss: 1.1973]\n",
            "[Epoch 11/50] [Batch 0/938] [D loss: 1.2538] [G loss: 1.6462]\n",
            "[Epoch 11/50] [Batch 200/938] [D loss: 1.1678] [G loss: 0.9305]\n",
            "[Epoch 11/50] [Batch 400/938] [D loss: 1.1380] [G loss: 0.9386]\n",
            "[Epoch 11/50] [Batch 600/938] [D loss: 1.0258] [G loss: 0.8260]\n",
            "[Epoch 11/50] [Batch 800/938] [D loss: 1.2642] [G loss: 1.2851]\n",
            "[Epoch 12/50] [Batch 0/938] [D loss: 1.2468] [G loss: 1.0812]\n",
            "[Epoch 12/50] [Batch 200/938] [D loss: 1.2686] [G loss: 0.8764]\n",
            "[Epoch 12/50] [Batch 400/938] [D loss: 1.1078] [G loss: 1.3125]\n",
            "[Epoch 12/50] [Batch 600/938] [D loss: 1.1930] [G loss: 1.4234]\n",
            "[Epoch 12/50] [Batch 800/938] [D loss: 1.5139] [G loss: 0.7131]\n",
            "[Epoch 13/50] [Batch 0/938] [D loss: 1.1174] [G loss: 1.3534]\n",
            "[Epoch 13/50] [Batch 200/938] [D loss: 1.4777] [G loss: 0.4919]\n",
            "[Epoch 13/50] [Batch 400/938] [D loss: 1.1639] [G loss: 1.1154]\n",
            "[Epoch 13/50] [Batch 600/938] [D loss: 1.1274] [G loss: 0.8006]\n",
            "[Epoch 13/50] [Batch 800/938] [D loss: 1.2123] [G loss: 1.1235]\n",
            "[Epoch 14/50] [Batch 0/938] [D loss: 1.2416] [G loss: 1.3767]\n",
            "[Epoch 14/50] [Batch 200/938] [D loss: 1.1889] [G loss: 1.3177]\n",
            "[Epoch 14/50] [Batch 400/938] [D loss: 1.2067] [G loss: 1.1345]\n",
            "[Epoch 14/50] [Batch 600/938] [D loss: 1.3010] [G loss: 1.6494]\n",
            "[Epoch 14/50] [Batch 800/938] [D loss: 1.1640] [G loss: 1.1933]\n",
            "[Epoch 15/50] [Batch 0/938] [D loss: 1.1486] [G loss: 1.2343]\n",
            "[Epoch 15/50] [Batch 200/938] [D loss: 1.1567] [G loss: 1.1086]\n",
            "[Epoch 15/50] [Batch 400/938] [D loss: 1.1405] [G loss: 1.3114]\n",
            "[Epoch 15/50] [Batch 600/938] [D loss: 1.1653] [G loss: 1.2198]\n",
            "[Epoch 15/50] [Batch 800/938] [D loss: 1.1682] [G loss: 1.3249]\n",
            "[Epoch 16/50] [Batch 0/938] [D loss: 1.2663] [G loss: 1.3297]\n",
            "[Epoch 16/50] [Batch 200/938] [D loss: 1.1871] [G loss: 0.7741]\n",
            "[Epoch 16/50] [Batch 400/938] [D loss: 1.1241] [G loss: 1.1503]\n",
            "[Epoch 16/50] [Batch 600/938] [D loss: 1.1062] [G loss: 0.9819]\n",
            "[Epoch 16/50] [Batch 800/938] [D loss: 1.0556] [G loss: 0.9158]\n",
            "[Epoch 17/50] [Batch 0/938] [D loss: 1.1650] [G loss: 1.3636]\n",
            "[Epoch 17/50] [Batch 200/938] [D loss: 1.0813] [G loss: 1.1626]\n",
            "[Epoch 17/50] [Batch 400/938] [D loss: 1.2666] [G loss: 0.5003]\n",
            "[Epoch 17/50] [Batch 600/938] [D loss: 1.1417] [G loss: 0.7883]\n",
            "[Epoch 17/50] [Batch 800/938] [D loss: 1.1110] [G loss: 1.3431]\n",
            "[Epoch 18/50] [Batch 0/938] [D loss: 1.0797] [G loss: 1.0309]\n",
            "[Epoch 18/50] [Batch 200/938] [D loss: 1.1180] [G loss: 1.7195]\n",
            "[Epoch 18/50] [Batch 400/938] [D loss: 1.1414] [G loss: 1.3075]\n",
            "[Epoch 18/50] [Batch 600/938] [D loss: 1.2372] [G loss: 0.7422]\n",
            "[Epoch 18/50] [Batch 800/938] [D loss: 1.2730] [G loss: 1.0677]\n",
            "[Epoch 19/50] [Batch 0/938] [D loss: 1.1915] [G loss: 0.6505]\n",
            "[Epoch 19/50] [Batch 200/938] [D loss: 1.3295] [G loss: 0.6719]\n",
            "[Epoch 19/50] [Batch 400/938] [D loss: 1.0368] [G loss: 0.7901]\n",
            "[Epoch 19/50] [Batch 600/938] [D loss: 1.2300] [G loss: 0.7339]\n",
            "[Epoch 19/50] [Batch 800/938] [D loss: 1.1537] [G loss: 1.1328]\n",
            "[Epoch 20/50] [Batch 0/938] [D loss: 1.5210] [G loss: 1.5043]\n",
            "[Epoch 20/50] [Batch 200/938] [D loss: 1.1029] [G loss: 0.8739]\n",
            "[Epoch 20/50] [Batch 400/938] [D loss: 1.1224] [G loss: 1.1900]\n",
            "[Epoch 20/50] [Batch 600/938] [D loss: 1.0903] [G loss: 0.9047]\n",
            "[Epoch 20/50] [Batch 800/938] [D loss: 1.1793] [G loss: 0.9162]\n",
            "[Epoch 21/50] [Batch 0/938] [D loss: 1.3161] [G loss: 1.3811]\n",
            "[Epoch 21/50] [Batch 200/938] [D loss: 1.1307] [G loss: 0.9702]\n",
            "[Epoch 21/50] [Batch 400/938] [D loss: 1.0789] [G loss: 0.9426]\n",
            "[Epoch 21/50] [Batch 600/938] [D loss: 1.1865] [G loss: 0.8860]\n",
            "[Epoch 21/50] [Batch 800/938] [D loss: 1.2694] [G loss: 1.4576]\n",
            "[Epoch 22/50] [Batch 0/938] [D loss: 1.2103] [G loss: 1.1459]\n",
            "[Epoch 22/50] [Batch 200/938] [D loss: 1.1359] [G loss: 0.8286]\n",
            "[Epoch 22/50] [Batch 400/938] [D loss: 1.2173] [G loss: 0.6613]\n",
            "[Epoch 22/50] [Batch 600/938] [D loss: 1.0546] [G loss: 1.2531]\n",
            "[Epoch 22/50] [Batch 800/938] [D loss: 1.1618] [G loss: 1.1185]\n",
            "[Epoch 23/50] [Batch 0/938] [D loss: 1.2543] [G loss: 1.2835]\n",
            "[Epoch 23/50] [Batch 200/938] [D loss: 0.9694] [G loss: 0.9336]\n",
            "[Epoch 23/50] [Batch 400/938] [D loss: 1.1770] [G loss: 1.0740]\n",
            "[Epoch 23/50] [Batch 600/938] [D loss: 1.1111] [G loss: 1.3435]\n",
            "[Epoch 23/50] [Batch 800/938] [D loss: 1.1217] [G loss: 0.8393]\n",
            "[Epoch 24/50] [Batch 0/938] [D loss: 1.2348] [G loss: 1.0383]\n",
            "[Epoch 24/50] [Batch 200/938] [D loss: 1.1563] [G loss: 1.2019]\n",
            "[Epoch 24/50] [Batch 400/938] [D loss: 1.2008] [G loss: 1.0127]\n",
            "[Epoch 24/50] [Batch 600/938] [D loss: 1.1615] [G loss: 1.2786]\n",
            "[Epoch 24/50] [Batch 800/938] [D loss: 1.2841] [G loss: 0.9460]\n",
            "[Epoch 25/50] [Batch 0/938] [D loss: 1.2577] [G loss: 0.9854]\n",
            "[Epoch 25/50] [Batch 200/938] [D loss: 1.1369] [G loss: 0.8364]\n",
            "[Epoch 25/50] [Batch 400/938] [D loss: 1.1814] [G loss: 1.1792]\n",
            "[Epoch 25/50] [Batch 600/938] [D loss: 1.0688] [G loss: 1.3122]\n",
            "[Epoch 25/50] [Batch 800/938] [D loss: 1.2147] [G loss: 1.0859]\n",
            "[Epoch 26/50] [Batch 0/938] [D loss: 1.2456] [G loss: 1.6754]\n",
            "[Epoch 26/50] [Batch 200/938] [D loss: 1.2212] [G loss: 1.9129]\n",
            "[Epoch 26/50] [Batch 400/938] [D loss: 1.1876] [G loss: 1.2774]\n",
            "[Epoch 26/50] [Batch 600/938] [D loss: 1.1715] [G loss: 1.1007]\n",
            "[Epoch 26/50] [Batch 800/938] [D loss: 1.2612] [G loss: 1.2107]\n",
            "[Epoch 27/50] [Batch 0/938] [D loss: 1.2793] [G loss: 1.5253]\n",
            "[Epoch 27/50] [Batch 200/938] [D loss: 1.1654] [G loss: 1.4722]\n",
            "[Epoch 27/50] [Batch 400/938] [D loss: 1.0205] [G loss: 1.1269]\n",
            "[Epoch 27/50] [Batch 600/938] [D loss: 1.0917] [G loss: 1.0267]\n",
            "[Epoch 27/50] [Batch 800/938] [D loss: 1.2504] [G loss: 0.7906]\n",
            "[Epoch 28/50] [Batch 0/938] [D loss: 1.0872] [G loss: 1.0890]\n",
            "[Epoch 28/50] [Batch 200/938] [D loss: 1.2015] [G loss: 1.3841]\n",
            "[Epoch 28/50] [Batch 400/938] [D loss: 1.2993] [G loss: 0.4467]\n",
            "[Epoch 28/50] [Batch 600/938] [D loss: 1.1859] [G loss: 1.2427]\n",
            "[Epoch 28/50] [Batch 800/938] [D loss: 1.2221] [G loss: 0.8368]\n",
            "[Epoch 29/50] [Batch 0/938] [D loss: 1.2214] [G loss: 1.4048]\n",
            "[Epoch 29/50] [Batch 200/938] [D loss: 1.1250] [G loss: 1.1294]\n",
            "[Epoch 29/50] [Batch 400/938] [D loss: 1.0494] [G loss: 1.1722]\n",
            "[Epoch 29/50] [Batch 600/938] [D loss: 1.1704] [G loss: 0.9210]\n",
            "[Epoch 29/50] [Batch 800/938] [D loss: 1.0931] [G loss: 1.1339]\n",
            "[Epoch 30/50] [Batch 0/938] [D loss: 1.2992] [G loss: 1.2577]\n",
            "[Epoch 30/50] [Batch 200/938] [D loss: 1.2406] [G loss: 1.1993]\n",
            "[Epoch 30/50] [Batch 400/938] [D loss: 1.1446] [G loss: 0.9474]\n",
            "[Epoch 30/50] [Batch 600/938] [D loss: 1.0989] [G loss: 1.2417]\n",
            "[Epoch 30/50] [Batch 800/938] [D loss: 1.1918] [G loss: 1.3925]\n",
            "[Epoch 31/50] [Batch 0/938] [D loss: 1.1860] [G loss: 1.0306]\n",
            "[Epoch 31/50] [Batch 200/938] [D loss: 1.0944] [G loss: 1.2606]\n",
            "[Epoch 31/50] [Batch 400/938] [D loss: 1.2358] [G loss: 0.8909]\n",
            "[Epoch 31/50] [Batch 600/938] [D loss: 1.0745] [G loss: 1.1634]\n",
            "[Epoch 31/50] [Batch 800/938] [D loss: 1.2738] [G loss: 1.0099]\n",
            "[Epoch 32/50] [Batch 0/938] [D loss: 1.2268] [G loss: 0.9118]\n",
            "[Epoch 32/50] [Batch 200/938] [D loss: 1.0817] [G loss: 1.2874]\n",
            "[Epoch 32/50] [Batch 400/938] [D loss: 1.0875] [G loss: 0.9034]\n",
            "[Epoch 32/50] [Batch 600/938] [D loss: 1.1352] [G loss: 0.9501]\n",
            "[Epoch 32/50] [Batch 800/938] [D loss: 1.2031] [G loss: 1.0927]\n",
            "[Epoch 33/50] [Batch 0/938] [D loss: 1.1064] [G loss: 0.7953]\n",
            "[Epoch 33/50] [Batch 200/938] [D loss: 1.1065] [G loss: 1.1078]\n",
            "[Epoch 33/50] [Batch 400/938] [D loss: 1.0955] [G loss: 0.9254]\n",
            "[Epoch 33/50] [Batch 600/938] [D loss: 1.2292] [G loss: 1.2201]\n",
            "[Epoch 33/50] [Batch 800/938] [D loss: 1.1635] [G loss: 1.3322]\n",
            "[Epoch 34/50] [Batch 0/938] [D loss: 1.1926] [G loss: 1.4117]\n",
            "[Epoch 34/50] [Batch 200/938] [D loss: 1.2573] [G loss: 1.0816]\n",
            "[Epoch 34/50] [Batch 400/938] [D loss: 1.2633] [G loss: 1.1648]\n",
            "[Epoch 34/50] [Batch 600/938] [D loss: 1.1063] [G loss: 1.0763]\n",
            "[Epoch 34/50] [Batch 800/938] [D loss: 1.2131] [G loss: 1.2270]\n",
            "[Epoch 35/50] [Batch 0/938] [D loss: 1.3666] [G loss: 1.1962]\n",
            "[Epoch 35/50] [Batch 200/938] [D loss: 1.1648] [G loss: 1.0447]\n",
            "[Epoch 35/50] [Batch 400/938] [D loss: 1.0893] [G loss: 1.0838]\n",
            "[Epoch 35/50] [Batch 600/938] [D loss: 1.2010] [G loss: 1.2466]\n",
            "[Epoch 35/50] [Batch 800/938] [D loss: 1.4201] [G loss: 1.7318]\n",
            "[Epoch 36/50] [Batch 0/938] [D loss: 1.0902] [G loss: 1.2856]\n",
            "[Epoch 36/50] [Batch 200/938] [D loss: 1.1657] [G loss: 1.4411]\n",
            "[Epoch 36/50] [Batch 400/938] [D loss: 1.1530] [G loss: 0.6723]\n",
            "[Epoch 36/50] [Batch 600/938] [D loss: 1.1453] [G loss: 0.9416]\n",
            "[Epoch 36/50] [Batch 800/938] [D loss: 1.0423] [G loss: 0.9410]\n",
            "[Epoch 37/50] [Batch 0/938] [D loss: 1.0872] [G loss: 1.3185]\n",
            "[Epoch 37/50] [Batch 200/938] [D loss: 1.0950] [G loss: 1.1805]\n",
            "[Epoch 37/50] [Batch 400/938] [D loss: 1.0937] [G loss: 1.2793]\n",
            "[Epoch 37/50] [Batch 600/938] [D loss: 1.1639] [G loss: 1.0411]\n",
            "[Epoch 37/50] [Batch 800/938] [D loss: 1.0527] [G loss: 1.5885]\n",
            "[Epoch 38/50] [Batch 0/938] [D loss: 1.1237] [G loss: 1.4226]\n",
            "[Epoch 38/50] [Batch 200/938] [D loss: 1.2162] [G loss: 0.9616]\n",
            "[Epoch 38/50] [Batch 400/938] [D loss: 1.1296] [G loss: 1.4068]\n",
            "[Epoch 38/50] [Batch 600/938] [D loss: 1.2523] [G loss: 1.5216]\n",
            "[Epoch 38/50] [Batch 800/938] [D loss: 1.2344] [G loss: 1.3867]\n",
            "[Epoch 39/50] [Batch 0/938] [D loss: 1.1807] [G loss: 1.0636]\n",
            "[Epoch 39/50] [Batch 200/938] [D loss: 1.1365] [G loss: 0.7702]\n",
            "[Epoch 39/50] [Batch 400/938] [D loss: 1.1459] [G loss: 1.1957]\n",
            "[Epoch 39/50] [Batch 600/938] [D loss: 1.2618] [G loss: 1.5970]\n",
            "[Epoch 39/50] [Batch 800/938] [D loss: 1.0489] [G loss: 1.1207]\n",
            "[Epoch 40/50] [Batch 0/938] [D loss: 1.1674] [G loss: 1.2857]\n",
            "[Epoch 40/50] [Batch 200/938] [D loss: 1.3125] [G loss: 1.5719]\n",
            "[Epoch 40/50] [Batch 400/938] [D loss: 1.1952] [G loss: 0.7385]\n",
            "[Epoch 40/50] [Batch 600/938] [D loss: 1.1363] [G loss: 0.8977]\n",
            "[Epoch 40/50] [Batch 800/938] [D loss: 1.0820] [G loss: 1.0610]\n",
            "[Epoch 41/50] [Batch 0/938] [D loss: 1.1861] [G loss: 0.8386]\n",
            "[Epoch 41/50] [Batch 200/938] [D loss: 1.1307] [G loss: 1.2020]\n",
            "[Epoch 41/50] [Batch 400/938] [D loss: 1.1515] [G loss: 1.1691]\n",
            "[Epoch 41/50] [Batch 600/938] [D loss: 1.2048] [G loss: 1.3815]\n",
            "[Epoch 41/50] [Batch 800/938] [D loss: 1.1008] [G loss: 1.4860]\n",
            "[Epoch 42/50] [Batch 0/938] [D loss: 1.1620] [G loss: 1.7507]\n",
            "[Epoch 42/50] [Batch 200/938] [D loss: 1.2039] [G loss: 1.0342]\n",
            "[Epoch 42/50] [Batch 400/938] [D loss: 1.0857] [G loss: 1.0748]\n",
            "[Epoch 42/50] [Batch 600/938] [D loss: 1.1192] [G loss: 0.8639]\n",
            "[Epoch 42/50] [Batch 800/938] [D loss: 1.1428] [G loss: 1.0582]\n",
            "[Epoch 43/50] [Batch 0/938] [D loss: 1.1291] [G loss: 1.2921]\n",
            "[Epoch 43/50] [Batch 200/938] [D loss: 1.0305] [G loss: 1.1502]\n",
            "[Epoch 43/50] [Batch 400/938] [D loss: 0.9747] [G loss: 1.0657]\n",
            "[Epoch 43/50] [Batch 600/938] [D loss: 1.1807] [G loss: 0.7661]\n",
            "[Epoch 43/50] [Batch 800/938] [D loss: 1.3914] [G loss: 1.4803]\n",
            "[Epoch 44/50] [Batch 0/938] [D loss: 1.1626] [G loss: 1.1995]\n",
            "[Epoch 44/50] [Batch 200/938] [D loss: 1.1519] [G loss: 1.1984]\n",
            "[Epoch 44/50] [Batch 400/938] [D loss: 1.1432] [G loss: 1.1505]\n",
            "[Epoch 44/50] [Batch 600/938] [D loss: 1.0985] [G loss: 1.0266]\n",
            "[Epoch 44/50] [Batch 800/938] [D loss: 0.9206] [G loss: 1.0503]\n",
            "[Epoch 45/50] [Batch 0/938] [D loss: 1.1957] [G loss: 1.4008]\n",
            "[Epoch 45/50] [Batch 200/938] [D loss: 1.0757] [G loss: 1.1808]\n",
            "[Epoch 45/50] [Batch 400/938] [D loss: 1.1864] [G loss: 1.1720]\n",
            "[Epoch 45/50] [Batch 600/938] [D loss: 1.1745] [G loss: 0.9023]\n",
            "[Epoch 45/50] [Batch 800/938] [D loss: 1.1177] [G loss: 1.1048]\n",
            "[Epoch 46/50] [Batch 0/938] [D loss: 1.2293] [G loss: 1.6160]\n",
            "[Epoch 46/50] [Batch 200/938] [D loss: 1.1600] [G loss: 0.6329]\n",
            "[Epoch 46/50] [Batch 400/938] [D loss: 1.2150] [G loss: 1.3482]\n",
            "[Epoch 46/50] [Batch 600/938] [D loss: 1.1319] [G loss: 1.1342]\n",
            "[Epoch 46/50] [Batch 800/938] [D loss: 1.1542] [G loss: 1.1444]\n",
            "[Epoch 47/50] [Batch 0/938] [D loss: 0.9722] [G loss: 1.2997]\n",
            "[Epoch 47/50] [Batch 200/938] [D loss: 1.1246] [G loss: 0.9268]\n",
            "[Epoch 47/50] [Batch 400/938] [D loss: 1.1946] [G loss: 0.6728]\n",
            "[Epoch 47/50] [Batch 600/938] [D loss: 1.0589] [G loss: 1.1225]\n",
            "[Epoch 47/50] [Batch 800/938] [D loss: 1.1400] [G loss: 1.0679]\n",
            "[Epoch 48/50] [Batch 0/938] [D loss: 1.0345] [G loss: 0.9424]\n",
            "[Epoch 48/50] [Batch 200/938] [D loss: 1.1236] [G loss: 0.9067]\n",
            "[Epoch 48/50] [Batch 400/938] [D loss: 1.1966] [G loss: 1.1928]\n",
            "[Epoch 48/50] [Batch 600/938] [D loss: 1.0978] [G loss: 1.2222]\n",
            "[Epoch 48/50] [Batch 800/938] [D loss: 1.0961] [G loss: 0.8099]\n",
            "[Epoch 49/50] [Batch 0/938] [D loss: 1.1546] [G loss: 0.9614]\n",
            "[Epoch 49/50] [Batch 200/938] [D loss: 1.1548] [G loss: 1.3604]\n",
            "[Epoch 49/50] [Batch 400/938] [D loss: 1.1227] [G loss: 0.8665]\n",
            "[Epoch 49/50] [Batch 600/938] [D loss: 1.1022] [G loss: 1.6211]\n",
            "[Epoch 49/50] [Batch 800/938] [D loss: 1.0358] [G loss: 1.3414]\n",
            "Training finished!\n"
          ]
        }
      ],
      "source": [
        "for epoch in range(num_epochs):\n",
        "    for i, (real_imgs, _) in enumerate(dataloader):\n",
        "\n",
        "        real_imgs = real_imgs.to(device)\n",
        "        batch_size = real_imgs.size(0)\n",
        "\n",
        "        # Labels: real=1, fake=0\n",
        "        real_labels = torch.ones(batch_size, 1, device=device)\n",
        "        fake_labels = torch.zeros(batch_size, 1, device=device)\n",
        "\n",
        "        # ---------------------\n",
        "        # Train Discriminator\n",
        "        # ---------------------\n",
        "        z = torch.randn(batch_size, latent_dim, device=device)\n",
        "        fake_imgs = G(z)\n",
        "\n",
        "        real_pred = D(real_imgs)\n",
        "        fake_pred = D(fake_imgs.detach())\n",
        "\n",
        "        loss_real = criterion(real_pred, real_labels)\n",
        "        loss_fake = criterion(fake_pred, fake_labels)\n",
        "        loss_D = loss_real + loss_fake\n",
        "\n",
        "        optimizer_D.zero_grad()\n",
        "        loss_D.backward()\n",
        "        optimizer_D.step()\n",
        "\n",
        "        # ---------------------\n",
        "        # Train Generator\n",
        "        # ---------------------\n",
        "        z = torch.randn(batch_size, latent_dim, device=device)\n",
        "        fake_imgs = G(z)\n",
        "        fake_pred = D(fake_imgs)\n",
        "\n",
        "        # non-saturating loss (labels=1 for fake images)\n",
        "        loss_G = criterion(fake_pred, real_labels)\n",
        "\n",
        "        optimizer_G.zero_grad()\n",
        "        loss_G.backward()\n",
        "        optimizer_G.step()\n",
        "\n",
        "        # ---------------------\n",
        "        # Logging\n",
        "        # ---------------------\n",
        "        if i % 200 == 0:\n",
        "            print(\n",
        "                f\"[Epoch {epoch}/{num_epochs}] \"\n",
        "                f\"[Batch {i}/{len(dataloader)}] \"\n",
        "                f\"[D loss: {loss_D.item():.4f}] \"\n",
        "                f\"[G loss: {loss_G.item():.4f}]\"\n",
        "            )\n",
        "\n",
        "    # Save sample images after each epoch\n",
        "    z = torch.randn(25, latent_dim, device=device)\n",
        "    sample_imgs = G(z).cpu().detach()\n",
        "    sample_imgs = (sample_imgs + 1) / 2.0  # rescale to [0,1]\n",
        "\n",
        "    grid = torch.cat([img for img in sample_imgs], dim=2)\n",
        "    plt.imsave(f\"images/epoch_{epoch}.png\", grid.squeeze(), cmap=\"gray\")\n",
        "\n",
        "print(\"Training finished!\")\n"
      ]
    },
    {
      "cell_type": "markdown",
      "id": "xt6hWPzgVGxI",
      "metadata": {
        "id": "xt6hWPzgVGxI"
      },
      "source": [
        "\n",
        "# --- After training is finished ---\n",
        "## Generate some images using the trained Generator\n"
      ]
    },
    {
      "cell_type": "code",
      "execution_count": 9,
      "id": "c97owQW2SW2B",
      "metadata": {
        "colab": {
          "base_uri": "https://localhost:8080/",
          "height": 607
        },
        "id": "c97owQW2SW2B",
        "outputId": "cffa7456-f17d-4729-95f4-2e410b1910b3"
      },
      "outputs": [
        {
          "data": {
            "image/png": "[encoded data removed]",
            "text/plain": [
              "<Figure size 600x600 with 25 Axes>"
            ]
          },
          "metadata": {},
          "output_type": "display_data"
        }
      ],
      "source": [
        "import torch\n",
        "import matplotlib.pyplot as plt\n",
        "\n",
        "# Put generator in evaluation mode\n",
        "G.eval()\n",
        "\n",
        "# Sample new latent vectors\n",
        "n_samples = 25   # how many images you want\n",
        "z = torch.randn(n_samples, latent_dim, device=device)\n",
        "\n",
        "# Generate fake images\n",
        "with torch.no_grad():\n",
        "    gen_imgs = G(z).cpu()\n",
        "\n",
        "# Rescale images from [-1,1] -> [0,1] for plotting\n",
        "gen_imgs = (gen_imgs + 1) / 2.0\n",
        "\n",
        "# --- Plot in grid ---\n",
        "fig, axes = plt.subplots(5, 5, figsize=(6, 6))\n",
        "for i, ax in enumerate(axes.flatten()):\n",
        "    ax.imshow(gen_imgs[i].squeeze(), cmap=\"gray\")\n",
        "    ax.axis(\"off\")\n",
        "\n",
        "plt.tight_layout()\n",
        "plt.show()\n"
      ]
    }
  ],
  "metadata": {
    "accelerator": "GPU",
    "colab": {
      "gpuType": "T4",
      "provenance": []
    },
    "kernelspec": {
      "display_name": "Python 3",
      "name": "python3"
    }
  },
  "nbformat": 4,
  "nbformat_minor": 5
}
